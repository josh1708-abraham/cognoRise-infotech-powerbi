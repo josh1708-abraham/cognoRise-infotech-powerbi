{
 "cells": [
  {
   "cell_type": "code",
   "execution_count": 1,
   "id": "6006a01e",
   "metadata": {
    "_cell_guid": "b1076dfc-b9ad-4769-8c92-a6c4dae69d19",
    "_uuid": "8f2839f25d086af736a60e9eeb907d3b93b6e0e5",
    "execution": {
     "iopub.execute_input": "2024-12-01T08:22:34.534503Z",
     "iopub.status.busy": "2024-12-01T08:22:34.533411Z",
     "iopub.status.idle": "2024-12-01T08:22:35.407298Z",
     "shell.execute_reply": "2024-12-01T08:22:35.406130Z"
    },
    "papermill": {
     "duration": 0.886338,
     "end_time": "2024-12-01T08:22:35.410969",
     "exception": false,
     "start_time": "2024-12-01T08:22:34.524631",
     "status": "completed"
    },
    "tags": []
   },
   "outputs": [
    {
     "name": "stdout",
     "output_type": "stream",
     "text": [
      "/kaggle/input/zomato-1-csv/zomato.csv\n",
      "/kaggle/input/zomato-dataset/zomato.csv\n"
     ]
    }
   ],
   "source": [
    "# This Python 3 environment comes with many helpful analytics libraries installed\n",
    "# It is defined by the kaggle/python Docker image: https://github.com/kaggle/docker-python\n",
    "# For example, here's several helpful packages to load\n",
    "\n",
    "import numpy as np # linear algebra\n",
    "import pandas as pd # data processing, CSV file I/O (e.g. pd.read_csv)\n",
    "\n",
    "# Input data files are available in the read-only \"../input/\" directory\n",
    "# For example, running this (by clicking run or pressing Shift+Enter) will list all files under the input directory\n",
    "\n",
    "import os\n",
    "for dirname, _, filenames in os.walk('/kaggle/input'):\n",
    "    for filename in filenames:\n",
    "        print(os.path.join(dirname, filename))\n",
    "\n",
    "# You can write up to 20GB to the current directory (/kaggle/working/) that gets preserved as output when you create a version using \"Save & Run All\" \n",
    "# You can also write temporary files to /kaggle/temp/, but they won't be saved outside of the current session"
   ]
  },
  {
   "cell_type": "markdown",
   "id": "1673f072",
   "metadata": {
    "papermill": {
     "duration": 0.005938,
     "end_time": "2024-12-01T08:22:35.423345",
     "exception": false,
     "start_time": "2024-12-01T08:22:35.417407",
     "status": "completed"
    },
    "tags": []
   },
   "source": [
    "# Step 1: Load and Explore the Data"
   ]
  },
  {
   "cell_type": "code",
   "execution_count": 2,
   "id": "b4418b51",
   "metadata": {
    "execution": {
     "iopub.execute_input": "2024-12-01T08:22:35.436546Z",
     "iopub.status.busy": "2024-12-01T08:22:35.436046Z",
     "iopub.status.idle": "2024-12-01T08:22:37.044312Z",
     "shell.execute_reply": "2024-12-01T08:22:37.043190Z"
    },
    "papermill": {
     "duration": 1.617755,
     "end_time": "2024-12-01T08:22:37.046815",
     "exception": false,
     "start_time": "2024-12-01T08:22:35.429060",
     "status": "completed"
    },
    "tags": []
   },
   "outputs": [],
   "source": [
    "# Import necessary libraries\n",
    "import pandas as pd\n",
    "import numpy as np\n",
    "import matplotlib.pyplot as plt\n",
    "import seaborn as sns"
   ]
  },
  {
   "cell_type": "code",
   "execution_count": 3,
   "id": "6056223f",
   "metadata": {
    "execution": {
     "iopub.execute_input": "2024-12-01T08:22:37.060559Z",
     "iopub.status.busy": "2024-12-01T08:22:37.060012Z",
     "iopub.status.idle": "2024-12-01T08:22:49.594577Z",
     "shell.execute_reply": "2024-12-01T08:22:49.593661Z"
    },
    "papermill": {
     "duration": 12.544153,
     "end_time": "2024-12-01T08:22:49.597123",
     "exception": false,
     "start_time": "2024-12-01T08:22:37.052970",
     "status": "completed"
    },
    "tags": []
   },
   "outputs": [],
   "source": [
    "df=pd.read_csv(\"/kaggle/input/zomato-dataset/zomato.csv\")"
   ]
  },
  {
   "cell_type": "markdown",
   "id": "9b2759b2",
   "metadata": {
    "papermill": {
     "duration": 0.005405,
     "end_time": "2024-12-01T08:22:49.609638",
     "exception": false,
     "start_time": "2024-12-01T08:22:49.604233",
     "status": "completed"
    },
    "tags": []
   },
   "source": [
    "Understand the Data:\r\n",
    "\r\n",
    "df.info(): Provides a summary of columns, data types, and missing values.\r\n",
    "df.describe(): Gives statistics of numerical columns (mean, median, etc.).\r\n",
    "df.head(): Displays the first five rows."
   ]
  },
  {
   "cell_type": "code",
   "execution_count": 4,
   "id": "4c300904",
   "metadata": {
    "execution": {
     "iopub.execute_input": "2024-12-01T08:22:49.622987Z",
     "iopub.status.busy": "2024-12-01T08:22:49.622554Z",
     "iopub.status.idle": "2024-12-01T08:22:49.700362Z",
     "shell.execute_reply": "2024-12-01T08:22:49.699227Z"
    },
    "papermill": {
     "duration": 0.08715,
     "end_time": "2024-12-01T08:22:49.702647",
     "exception": false,
     "start_time": "2024-12-01T08:22:49.615497",
     "status": "completed"
    },
    "tags": []
   },
   "outputs": [
    {
     "name": "stdout",
     "output_type": "stream",
     "text": [
      "<class 'pandas.core.frame.DataFrame'>\n",
      "RangeIndex: 51717 entries, 0 to 51716\n",
      "Data columns (total 17 columns):\n",
      " #   Column                       Non-Null Count  Dtype \n",
      "---  ------                       --------------  ----- \n",
      " 0   url                          51717 non-null  object\n",
      " 1   address                      51717 non-null  object\n",
      " 2   name                         51717 non-null  object\n",
      " 3   online_order                 51717 non-null  object\n",
      " 4   book_table                   51717 non-null  object\n",
      " 5   rate                         43942 non-null  object\n",
      " 6   votes                        51717 non-null  int64 \n",
      " 7   phone                        50509 non-null  object\n",
      " 8   location                     51696 non-null  object\n",
      " 9   rest_type                    51490 non-null  object\n",
      " 10  dish_liked                   23639 non-null  object\n",
      " 11  cuisines                     51672 non-null  object\n",
      " 12  approx_cost(for two people)  51371 non-null  object\n",
      " 13  reviews_list                 51717 non-null  object\n",
      " 14  menu_item                    51717 non-null  object\n",
      " 15  listed_in(type)              51717 non-null  object\n",
      " 16  listed_in(city)              51717 non-null  object\n",
      "dtypes: int64(1), object(16)\n",
      "memory usage: 6.7+ MB\n",
      "None\n"
     ]
    }
   ],
   "source": [
    "print(df.info())\n",
    "\n"
   ]
  },
  {
   "cell_type": "code",
   "execution_count": 5,
   "id": "891d18de",
   "metadata": {
    "execution": {
     "iopub.execute_input": "2024-12-01T08:22:49.716400Z",
     "iopub.status.busy": "2024-12-01T08:22:49.716004Z",
     "iopub.status.idle": "2024-12-01T08:22:49.736015Z",
     "shell.execute_reply": "2024-12-01T08:22:49.734852Z"
    },
    "papermill": {
     "duration": 0.029748,
     "end_time": "2024-12-01T08:22:49.738414",
     "exception": false,
     "start_time": "2024-12-01T08:22:49.708666",
     "status": "completed"
    },
    "tags": []
   },
   "outputs": [
    {
     "name": "stdout",
     "output_type": "stream",
     "text": [
      "              votes\n",
      "count  51717.000000\n",
      "mean     283.697527\n",
      "std      803.838853\n",
      "min        0.000000\n",
      "25%        7.000000\n",
      "50%       41.000000\n",
      "75%      198.000000\n",
      "max    16832.000000\n"
     ]
    }
   ],
   "source": [
    "\n",
    "print(df.describe())\n",
    "\n"
   ]
  },
  {
   "cell_type": "code",
   "execution_count": 6,
   "id": "5b432cba",
   "metadata": {
    "execution": {
     "iopub.execute_input": "2024-12-01T08:22:49.752419Z",
     "iopub.status.busy": "2024-12-01T08:22:49.751698Z",
     "iopub.status.idle": "2024-12-01T08:22:49.762437Z",
     "shell.execute_reply": "2024-12-01T08:22:49.761362Z"
    },
    "papermill": {
     "duration": 0.020441,
     "end_time": "2024-12-01T08:22:49.764922",
     "exception": false,
     "start_time": "2024-12-01T08:22:49.744481",
     "status": "completed"
    },
    "tags": []
   },
   "outputs": [
    {
     "name": "stdout",
     "output_type": "stream",
     "text": [
      "                                                 url  \\\n",
      "0  https://www.zomato.com/bangalore/jalsa-banasha...   \n",
      "1  https://www.zomato.com/bangalore/spice-elephan...   \n",
      "2  https://www.zomato.com/SanchurroBangalore?cont...   \n",
      "3  https://www.zomato.com/bangalore/addhuri-udupi...   \n",
      "4  https://www.zomato.com/bangalore/grand-village...   \n",
      "\n",
      "                                             address                   name  \\\n",
      "0  942, 21st Main Road, 2nd Stage, Banashankari, ...                  Jalsa   \n",
      "1  2nd Floor, 80 Feet Road, Near Big Bazaar, 6th ...         Spice Elephant   \n",
      "2  1112, Next to KIMS Medical College, 17th Cross...        San Churro Cafe   \n",
      "3  1st Floor, Annakuteera, 3rd Stage, Banashankar...  Addhuri Udupi Bhojana   \n",
      "4  10, 3rd Floor, Lakshmi Associates, Gandhi Baza...          Grand Village   \n",
      "\n",
      "  online_order book_table   rate  votes                             phone  \\\n",
      "0          Yes        Yes  4.1/5    775    080 42297555\\r\\n+91 9743772233   \n",
      "1          Yes         No  4.1/5    787                      080 41714161   \n",
      "2          Yes         No  3.8/5    918                    +91 9663487993   \n",
      "3           No         No  3.7/5     88                    +91 9620009302   \n",
      "4           No         No  3.8/5    166  +91 8026612447\\r\\n+91 9901210005   \n",
      "\n",
      "       location            rest_type  \\\n",
      "0  Banashankari        Casual Dining   \n",
      "1  Banashankari        Casual Dining   \n",
      "2  Banashankari  Cafe, Casual Dining   \n",
      "3  Banashankari          Quick Bites   \n",
      "4  Basavanagudi        Casual Dining   \n",
      "\n",
      "                                          dish_liked  \\\n",
      "0  Pasta, Lunch Buffet, Masala Papad, Paneer Laja...   \n",
      "1  Momos, Lunch Buffet, Chocolate Nirvana, Thai G...   \n",
      "2  Churros, Cannelloni, Minestrone Soup, Hot Choc...   \n",
      "3                                        Masala Dosa   \n",
      "4                                Panipuri, Gol Gappe   \n",
      "\n",
      "                         cuisines approx_cost(for two people)  \\\n",
      "0  North Indian, Mughlai, Chinese                         800   \n",
      "1     Chinese, North Indian, Thai                         800   \n",
      "2          Cafe, Mexican, Italian                         800   \n",
      "3      South Indian, North Indian                         300   \n",
      "4        North Indian, Rajasthani                         600   \n",
      "\n",
      "                                        reviews_list menu_item  \\\n",
      "0  [('Rated 4.0', 'RATED\\n  A beautiful place to ...        []   \n",
      "1  [('Rated 4.0', 'RATED\\n  Had been here for din...        []   \n",
      "2  [('Rated 3.0', \"RATED\\n  Ambience is not that ...        []   \n",
      "3  [('Rated 4.0', \"RATED\\n  Great food and proper...        []   \n",
      "4  [('Rated 4.0', 'RATED\\n  Very good restaurant ...        []   \n",
      "\n",
      "  listed_in(type) listed_in(city)  \n",
      "0          Buffet    Banashankari  \n",
      "1          Buffet    Banashankari  \n",
      "2          Buffet    Banashankari  \n",
      "3          Buffet    Banashankari  \n",
      "4          Buffet    Banashankari  \n"
     ]
    }
   ],
   "source": [
    "print(df.head())"
   ]
  },
  {
   "cell_type": "markdown",
   "id": "782cb752",
   "metadata": {
    "papermill": {
     "duration": 0.005888,
     "end_time": "2024-12-01T08:22:49.777251",
     "exception": false,
     "start_time": "2024-12-01T08:22:49.771363",
     "status": "completed"
    },
    "tags": []
   },
   "source": [
    "# Step 2: Data Cleaning\n",
    "\r\n",
    "This step ensures data consistency and removes irrelevant or problematic record.\r",
    "ds:"
   ]
  },
  {
   "cell_type": "markdown",
   "id": "ab4f28b8",
   "metadata": {
    "papermill": {
     "duration": 0.00585,
     "end_time": "2024-12-01T08:22:49.789250",
     "exception": false,
     "start_time": "2024-12-01T08:22:49.783400",
     "status": "completed"
    },
    "tags": []
   },
   "source": [
    "Remove Duplicate Records:"
   ]
  },
  {
   "cell_type": "code",
   "execution_count": 7,
   "id": "9ae7aa0a",
   "metadata": {
    "execution": {
     "iopub.execute_input": "2024-12-01T08:22:49.803047Z",
     "iopub.status.busy": "2024-12-01T08:22:49.802633Z",
     "iopub.status.idle": "2024-12-01T08:22:51.949255Z",
     "shell.execute_reply": "2024-12-01T08:22:51.948109Z"
    },
    "papermill": {
     "duration": 2.156237,
     "end_time": "2024-12-01T08:22:51.951658",
     "exception": false,
     "start_time": "2024-12-01T08:22:49.795421",
     "status": "completed"
    },
    "tags": []
   },
   "outputs": [],
   "source": [
    "df.drop_duplicates(inplace=True)\n"
   ]
  },
  {
   "cell_type": "markdown",
   "id": "7e06c2c2",
   "metadata": {
    "papermill": {
     "duration": 0.005737,
     "end_time": "2024-12-01T08:22:51.963666",
     "exception": false,
     "start_time": "2024-12-01T08:22:51.957929",
     "status": "completed"
    },
    "tags": []
   },
   "source": [
    "Handle Missing Values:"
   ]
  },
  {
   "cell_type": "code",
   "execution_count": 8,
   "id": "23eaddb2",
   "metadata": {
    "execution": {
     "iopub.execute_input": "2024-12-01T08:22:51.979181Z",
     "iopub.status.busy": "2024-12-01T08:22:51.978313Z",
     "iopub.status.idle": "2024-12-01T08:22:51.986380Z",
     "shell.execute_reply": "2024-12-01T08:22:51.985203Z"
    },
    "papermill": {
     "duration": 0.018346,
     "end_time": "2024-12-01T08:22:51.988670",
     "exception": false,
     "start_time": "2024-12-01T08:22:51.970324",
     "status": "completed"
    },
    "tags": []
   },
   "outputs": [
    {
     "name": "stdout",
     "output_type": "stream",
     "text": [
      "['4.1/5' '3.8/5' '3.7/5' '3.6/5' '4.6/5' '4.0/5' '4.2/5' '3.9/5' '3.1/5'\n",
      " '3.0/5' '3.2/5' '3.3/5' '2.8/5' '4.4/5' '4.3/5' 'NEW' '2.9/5' '3.5/5' nan\n",
      " '2.6/5' '3.8 /5' '3.4/5' '4.5/5' '2.5/5' '2.7/5' '4.7/5' '2.4/5' '2.2/5'\n",
      " '2.3/5' '3.4 /5' '-' '3.6 /5' '4.8/5' '3.9 /5' '4.2 /5' '4.0 /5' '4.1 /5'\n",
      " '3.7 /5' '3.1 /5' '2.9 /5' '3.3 /5' '2.8 /5' '3.5 /5' '2.7 /5' '2.5 /5'\n",
      " '3.2 /5' '2.6 /5' '4.5 /5' '4.3 /5' '4.4 /5' '4.9/5' '2.1/5' '2.0/5'\n",
      " '1.8/5' '4.6 /5' '4.9 /5' '3.0 /5' '4.8 /5' '2.3 /5' '4.7 /5' '2.4 /5'\n",
      " '2.1 /5' '2.2 /5' '2.0 /5' '1.8 /5']\n"
     ]
    }
   ],
   "source": [
    "print(df['rate'].unique())\n"
   ]
  },
  {
   "cell_type": "code",
   "execution_count": 9,
   "id": "5c485cb6",
   "metadata": {
    "execution": {
     "iopub.execute_input": "2024-12-01T08:22:52.002776Z",
     "iopub.status.busy": "2024-12-01T08:22:52.002355Z",
     "iopub.status.idle": "2024-12-01T08:22:52.073440Z",
     "shell.execute_reply": "2024-12-01T08:22:52.072418Z"
    },
    "papermill": {
     "duration": 0.080906,
     "end_time": "2024-12-01T08:22:52.075884",
     "exception": false,
     "start_time": "2024-12-01T08:22:51.994978",
     "status": "completed"
    },
    "tags": []
   },
   "outputs": [],
   "source": [
    "# Extract numeric part of the rate (e.g., '4.1/5' -> 4.1)\n",
    "df['rate'] = df['rate'].str.extract(r'(\\d+\\.\\d+|\\d+)').astype(float)\n"
   ]
  },
  {
   "cell_type": "code",
   "execution_count": 10,
   "id": "5541d9f6",
   "metadata": {
    "execution": {
     "iopub.execute_input": "2024-12-01T08:22:52.090353Z",
     "iopub.status.busy": "2024-12-01T08:22:52.089575Z",
     "iopub.status.idle": "2024-12-01T08:22:52.097274Z",
     "shell.execute_reply": "2024-12-01T08:22:52.096441Z"
    },
    "papermill": {
     "duration": 0.017226,
     "end_time": "2024-12-01T08:22:52.099465",
     "exception": false,
     "start_time": "2024-12-01T08:22:52.082239",
     "status": "completed"
    },
    "tags": []
   },
   "outputs": [],
   "source": [
    "# Fill missing values with the median\n",
    "df['rate'] = df['rate'].fillna(df['rate'].median())\n"
   ]
  },
  {
   "cell_type": "code",
   "execution_count": 11,
   "id": "7616f52f",
   "metadata": {
    "execution": {
     "iopub.execute_input": "2024-12-01T08:22:52.114104Z",
     "iopub.status.busy": "2024-12-01T08:22:52.113148Z",
     "iopub.status.idle": "2024-12-01T08:22:52.124419Z",
     "shell.execute_reply": "2024-12-01T08:22:52.123213Z"
    },
    "papermill": {
     "duration": 0.020774,
     "end_time": "2024-12-01T08:22:52.126522",
     "exception": false,
     "start_time": "2024-12-01T08:22:52.105748",
     "status": "completed"
    },
    "tags": []
   },
   "outputs": [
    {
     "name": "stdout",
     "output_type": "stream",
     "text": [
      "float64\n",
      "count    51717.000000\n",
      "mean         3.700362\n",
      "std          0.395391\n",
      "min          1.800000\n",
      "25%          3.500000\n",
      "50%          3.700000\n",
      "75%          3.900000\n",
      "max          4.900000\n",
      "Name: rate, dtype: float64\n"
     ]
    }
   ],
   "source": [
    "# Confirm the data type and summary statistics\n",
    "print(df['rate'].dtypes)\n",
    "print(df['rate'].describe())\n"
   ]
  },
  {
   "cell_type": "code",
   "execution_count": 12,
   "id": "1bf04563",
   "metadata": {
    "execution": {
     "iopub.execute_input": "2024-12-01T08:22:52.140929Z",
     "iopub.status.busy": "2024-12-01T08:22:52.140537Z",
     "iopub.status.idle": "2024-12-01T08:22:52.146102Z",
     "shell.execute_reply": "2024-12-01T08:22:52.145079Z"
    },
    "papermill": {
     "duration": 0.015271,
     "end_time": "2024-12-01T08:22:52.148245",
     "exception": false,
     "start_time": "2024-12-01T08:22:52.132974",
     "status": "completed"
    },
    "tags": []
   },
   "outputs": [],
   "source": [
    "df.rename(columns=lambda x: x.strip().lower().replace(\" \", \"_\"), inplace=True)\n"
   ]
  },
  {
   "cell_type": "markdown",
   "id": "5251c9a8",
   "metadata": {
    "papermill": {
     "duration": 0.00592,
     "end_time": "2024-12-01T08:22:52.160460",
     "exception": false,
     "start_time": "2024-12-01T08:22:52.154540",
     "status": "completed"
    },
    "tags": []
   },
   "source": [
    "# Step 3: Exploratory Data Analysis (EDA)\r",
    ".\n",
    "\r\n",
    "Now, explore relationships between variables and uncover trend\n",
    "\n",
    "\n",
    "Separate Categorical and Numerical Columns:s."
   ]
  },
  {
   "cell_type": "code",
   "execution_count": 13,
   "id": "093f4050",
   "metadata": {
    "execution": {
     "iopub.execute_input": "2024-12-01T08:22:52.175474Z",
     "iopub.status.busy": "2024-12-01T08:22:52.174304Z",
     "iopub.status.idle": "2024-12-01T08:22:52.234297Z",
     "shell.execute_reply": "2024-12-01T08:22:52.233088Z"
    },
    "papermill": {
     "duration": 0.069583,
     "end_time": "2024-12-01T08:22:52.236411",
     "exception": false,
     "start_time": "2024-12-01T08:22:52.166828",
     "status": "completed"
    },
    "tags": []
   },
   "outputs": [
    {
     "name": "stdout",
     "output_type": "stream",
     "text": [
      "Categorical Columns: Index(['url', 'address', 'name', 'online_order', 'book_table', 'phone',\n",
      "       'location', 'rest_type', 'dish_liked', 'cuisines',\n",
      "       'approx_cost(for_two_people)', 'reviews_list', 'menu_item',\n",
      "       'listed_in(type)', 'listed_in(city)'],\n",
      "      dtype='object')\n",
      "Numerical Columns: Index(['rate', 'votes'], dtype='object')\n"
     ]
    }
   ],
   "source": [
    "categorical_cols = df.select_dtypes(include='object').columns\n",
    "numerical_cols = df.select_dtypes(include='number').columns\n",
    "print(\"Categorical Columns:\", categorical_cols)\n",
    "print(\"Numerical Columns:\", numerical_cols)\n"
   ]
  },
  {
   "cell_type": "markdown",
   "id": "c8f4f640",
   "metadata": {
    "papermill": {
     "duration": 0.005963,
     "end_time": "2024-12-01T08:22:52.248671",
     "exception": false,
     "start_time": "2024-12-01T08:22:52.242708",
     "status": "completed"
    },
    "tags": []
   },
   "source": [
    "# Step 4: Data Visualization\n",
    "\r\n",
    "Use Matplotlib and Seaborn to visualize trends and correlations.\r",
    "ty:"
   ]
  },
  {
   "cell_type": "markdown",
   "id": "0e546cc9",
   "metadata": {
    "papermill": {
     "duration": 0.005889,
     "end_time": "2024-12-01T08:22:52.260813",
     "exception": false,
     "start_time": "2024-12-01T08:22:52.254924",
     "status": "completed"
    },
    "tags": []
   },
   "source": [
    "Online Delivery Availability:"
   ]
  },
  {
   "cell_type": "code",
   "execution_count": 14,
   "id": "0f980658",
   "metadata": {
    "execution": {
     "iopub.execute_input": "2024-12-01T08:22:52.275877Z",
     "iopub.status.busy": "2024-12-01T08:22:52.274917Z",
     "iopub.status.idle": "2024-12-01T08:22:52.560981Z",
     "shell.execute_reply": "2024-12-01T08:22:52.559970Z"
    },
    "papermill": {
     "duration": 0.295707,
     "end_time": "2024-12-01T08:22:52.563116",
     "exception": false,
     "start_time": "2024-12-01T08:22:52.267409",
     "status": "completed"
    },
    "tags": []
   },
   "outputs": [
    {
     "data": {
      "image/png": "[encoded data removed]",
      "text/plain": [
       "<Figure size 640x480 with 1 Axes>"
      ]
     },
     "metadata": {},
     "output_type": "display_data"
    }
   ],
   "source": [
    "import matplotlib.pyplot as plt\n",
    "import seaborn as sns\n",
    "sns.countplot(x='online_order', data=df)\n",
    "plt.title('Restaurants Delivering Online')\n",
    "plt.show()\n"
   ]
  },
  {
   "cell_type": "markdown",
   "id": "b02cc791",
   "metadata": {
    "papermill": {
     "duration": 0.00659,
     "end_time": "2024-12-01T08:22:52.576719",
     "exception": false,
     "start_time": "2024-12-01T08:22:52.570129",
     "status": "completed"
    },
    "tags": []
   },
   "source": [
    "Table Booking Preference:"
   ]
  },
  {
   "cell_type": "code",
   "execution_count": 15,
   "id": "4a3af819",
   "metadata": {
    "execution": {
     "iopub.execute_input": "2024-12-01T08:22:52.591853Z",
     "iopub.status.busy": "2024-12-01T08:22:52.591440Z",
     "iopub.status.idle": "2024-12-01T08:22:52.828054Z",
     "shell.execute_reply": "2024-12-01T08:22:52.826979Z"
    },
    "papermill": {
     "duration": 0.246781,
     "end_time": "2024-12-01T08:22:52.830231",
     "exception": false,
     "start_time": "2024-12-01T08:22:52.583450",
     "status": "completed"
    },
    "tags": []
   },
   "outputs": [
    {
     "data": {
      "image/png": "[encoded data removed]",
      "text/plain": [
       "<Figure size 640x480 with 1 Axes>"
      ]
     },
     "metadata": {},
     "output_type": "display_data"
    }
   ],
   "source": [
    "sns.countplot(x='book_table', data=df)\n",
    "plt.title('Restaurants Allowing Table Booking')\n",
    "plt.show()\n"
   ]
  },
  {
   "cell_type": "markdown",
   "id": "a7749c0a",
   "metadata": {
    "papermill": {
     "duration": 0.006732,
     "end_time": "2024-12-01T08:22:52.844179",
     "exception": false,
     "start_time": "2024-12-01T08:22:52.837447",
     "status": "completed"
    },
    "tags": []
   },
   "source": [
    "Relationship Between Table Booking and Ratings:"
   ]
  },
  {
   "cell_type": "code",
   "execution_count": 16,
   "id": "1498a650",
   "metadata": {
    "execution": {
     "iopub.execute_input": "2024-12-01T08:22:52.860070Z",
     "iopub.status.busy": "2024-12-01T08:22:52.859519Z",
     "iopub.status.idle": "2024-12-01T08:22:53.126811Z",
     "shell.execute_reply": "2024-12-01T08:22:53.125642Z"
    },
    "papermill": {
     "duration": 0.277944,
     "end_time": "2024-12-01T08:22:53.129207",
     "exception": false,
     "start_time": "2024-12-01T08:22:52.851263",
     "status": "completed"
    },
    "tags": []
   },
   "outputs": [
    {
     "data": {
      "image/png": "[encoded data removed]",
      "text/plain": [
       "<Figure size 640x480 with 1 Axes>"
      ]
     },
     "metadata": {},
     "output_type": "display_data"
    }
   ],
   "source": [
    "sns.boxplot(x='book_table', y='rate', data=df)\n",
    "plt.title('Table Booking vs Rating')\n",
    "plt.show()\n"
   ]
  },
  {
   "cell_type": "markdown",
   "id": "0b47f10f",
   "metadata": {
    "papermill": {
     "duration": 0.007198,
     "end_time": "2024-12-01T08:22:53.143938",
     "exception": false,
     "start_time": "2024-12-01T08:22:53.136740",
     "status": "completed"
    },
    "tags": []
   },
   "source": [
    "Top Restaurant Locations:\r\n",
    "\r\n"
   ]
  },
  {
   "cell_type": "code",
   "execution_count": 17,
   "id": "3193e078",
   "metadata": {
    "execution": {
     "iopub.execute_input": "2024-12-01T08:22:53.160562Z",
     "iopub.status.busy": "2024-12-01T08:22:53.160168Z",
     "iopub.status.idle": "2024-12-01T08:22:53.449337Z",
     "shell.execute_reply": "2024-12-01T08:22:53.448220Z"
    },
    "papermill": {
     "duration": 0.300464,
     "end_time": "2024-12-01T08:22:53.451767",
     "exception": false,
     "start_time": "2024-12-01T08:22:53.151303",
     "status": "completed"
    },
    "tags": []
   },
   "outputs": [
    {
     "data": {
      "image/png": "[encoded data removed]",
      "text/plain": [
       "<Figure size 640x480 with 1 Axes>"
      ]
     },
     "metadata": {},
     "output_type": "display_data"
    }
   ],
   "source": [
    "location_counts = df['location'].value_counts().head(10)\n",
    "location_counts.plot(kind='bar')\n",
    "plt.title('Top 10 Restaurant Locations')\n",
    "plt.show()\n"
   ]
  },
  {
   "cell_type": "markdown",
   "id": "701945b3",
   "metadata": {
    "papermill": {
     "duration": 0.008501,
     "end_time": "2024-12-01T08:22:53.468461",
     "exception": false,
     "start_time": "2024-12-01T08:22:53.459960",
     "status": "completed"
    },
    "tags": []
   },
   "source": [
    "Rating Distribution (Gaussian):"
   ]
  },
  {
   "cell_type": "code",
   "execution_count": 18,
   "id": "e533f743",
   "metadata": {
    "execution": {
     "iopub.execute_input": "2024-12-01T08:22:53.486606Z",
     "iopub.status.busy": "2024-12-01T08:22:53.486213Z",
     "iopub.status.idle": "2024-12-01T08:22:54.375496Z",
     "shell.execute_reply": "2024-12-01T08:22:54.374395Z"
    },
    "papermill": {
     "duration": 0.900922,
     "end_time": "2024-12-01T08:22:54.377807",
     "exception": false,
     "start_time": "2024-12-01T08:22:53.476885",
     "status": "completed"
    },
    "tags": []
   },
   "outputs": [
    {
     "name": "stderr",
     "output_type": "stream",
     "text": [
      "/opt/conda/lib/python3.10/site-packages/seaborn/_oldcore.py:1119: FutureWarning: use_inf_as_na option is deprecated and will be removed in a future version. Convert inf values to NaN before operating instead.\n",
      "  with pd.option_context('mode.use_inf_as_na', True):\n"
     ]
    },
    {
     "data": {
      "image/png": "[encoded data removed]",
      "text/plain": [
       "<Figure size 640x480 with 1 Axes>"
      ]
     },
     "metadata": {},
     "output_type": "display_data"
    }
   ],
   "source": [
    "sns.histplot(df['rate'], kde=True)\n",
    "plt.title('Distribution of Ratings')\n",
    "plt.show()\n"
   ]
  },
  {
   "cell_type": "markdown",
   "id": "8c60cde3",
   "metadata": {
    "papermill": {
     "duration": 0.008222,
     "end_time": "2024-12-01T08:22:54.394552",
     "exception": false,
     "start_time": "2024-12-01T08:22:54.386330",
     "status": "completed"
    },
    "tags": []
   },
   "source": [
    "Popular Restaurant Chains:"
   ]
  },
  {
   "cell_type": "code",
   "execution_count": 19,
   "id": "d41f8269",
   "metadata": {
    "execution": {
     "iopub.execute_input": "2024-12-01T08:22:54.413282Z",
     "iopub.status.busy": "2024-12-01T08:22:54.412878Z",
     "iopub.status.idle": "2024-12-01T08:22:54.694546Z",
     "shell.execute_reply": "2024-12-01T08:22:54.693432Z"
    },
    "papermill": {
     "duration": 0.293975,
     "end_time": "2024-12-01T08:22:54.697238",
     "exception": false,
     "start_time": "2024-12-01T08:22:54.403263",
     "status": "completed"
    },
    "tags": []
   },
   "outputs": [
    {
     "data": {
      "image/png": "[encoded data removed]",
      "text/plain": [
       "<Figure size 640x480 with 1 Axes>"
      ]
     },
     "metadata": {},
     "output_type": "display_data"
    }
   ],
   "source": [
    "df['name'].value_counts().head(10).plot(kind='bar')\n",
    "plt.title('Top 10 Restaurant Chains')\n",
    "plt.show()\n"
   ]
  },
  {
   "cell_type": "markdown",
   "id": "6a9971f7",
   "metadata": {
    "papermill": {
     "duration": 0.00956,
     "end_time": "2024-12-01T08:22:54.717043",
     "exception": false,
     "start_time": "2024-12-01T08:22:54.707483",
     "status": "completed"
    },
    "tags": []
   },
   "source": [
    "# Step 5: Key Insights\n",
    "\r\n",
    "Summarize what you learned:\r\n",
    "\r\n",
    "Trends:\r\n",
    "Online delivery is highly prevalent.\r\n",
    "Popular areas like Koramangala have the most restaurants.\r\n",
    "Correlations:\r\n",
    "Table booking is linked to higher ratings.\r\n",
    "Casual dining dominates the\n",
    "Service Gaps:\r\n",
    "Identify underserved locations.\r\n",
    "Opportunities for affordable restaurants in high-cost areas\n",
    "\n",
    "# Step 6: Solving Real-World Problems\n",
    "\r\n",
    "Applications of the dataset:\r\n",
    "\r\n",
    "Business Decision-Making: Determine where to open new restaurants based on demand.\r\n",
    "Service Improvements: Optimize services like table booking to attract higher ratings.\r\n",
    "Pricing Strategies: Analyze cost trends for different restaurant types..\r\n",
    " market.\r\n"
   ]
  }
 ],
 "metadata": {
  "kaggle": {
   "accelerator": "none",
   "dataSources": [
    {
     "datasetId": 2755701,
     "sourceId": 4761117,
     "sourceType": "datasetVersion"
    },
    {
     "datasetId": 6195593,
     "sourceId": 10054900,
     "sourceType": "datasetVersion"
    }
   ],
   "dockerImageVersionId": 30786,
   "isGpuEnabled": false,
   "isInternetEnabled": false,
   "language": "python",
   "sourceType": "notebook"
  },
  "kernelspec": {
   "display_name": "Python 3",
   "language": "python",
   "name": "python3"
  },
  "language_info": {
   "codemirror_mode": {
    "name": "ipython",
    "version": 3
   },
   "file_extension": ".py",
   "mimetype": "text/x-python",
   "name": "python",
   "nbconvert_exporter": "python",
   "pygments_lexer": "ipython3",
   "version": "3.10.14"
  },
  "papermill": {
   "default_parameters": {},
   "duration": 23.812568,
   "end_time": "2024-12-01T08:22:55.548824",
   "environment_variables": {},
   "exception": null,
   "input_path": "__notebook__.ipynb",
   "output_path": "__notebook__.ipynb",
   "parameters": {},
   "start_time": "2024-12-01T08:22:31.736256",
   "version": "2.6.0"
  }
 },
 "nbformat": 4,
 "nbformat_minor": 5
}
