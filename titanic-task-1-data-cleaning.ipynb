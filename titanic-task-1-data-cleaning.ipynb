{
 "cells": [
  {
   "cell_type": "code",
   "execution_count": 1,
   "id": "f8f170d8",
   "metadata": {
    "_cell_guid": "b1076dfc-b9ad-4769-8c92-a6c4dae69d19",
    "_uuid": "8f2839f25d086af736a60e9eeb907d3b93b6e0e5",
    "execution": {
     "iopub.execute_input": "2025-07-11T17:33:26.846695Z",
     "iopub.status.busy": "2025-07-11T17:33:26.845952Z",
     "iopub.status.idle": "2025-07-11T17:33:28.643283Z",
     "shell.execute_reply": "2025-07-11T17:33:28.642134Z"
    },
    "papermill": {
     "duration": 1.804758,
     "end_time": "2025-07-11T17:33:28.644833",
     "exception": false,
     "start_time": "2025-07-11T17:33:26.840075",
     "status": "completed"
    },
    "tags": []
   },
   "outputs": [
    {
     "name": "stdout",
     "output_type": "stream",
     "text": [
      "/kaggle/input/gender-submission-csv/gender_submission.csv\n",
      "/kaggle/input/titanic/train.csv\n",
      "/kaggle/input/titanic/test.csv\n",
      "/kaggle/input/titanic/gender_submission.csv\n",
      "/kaggle/input/titanic-machine-learning-from-disaster/train.csv\n",
      "/kaggle/input/titanic-machine-learning-from-disaster/test.csv\n"
     ]
    }
   ],
   "source": [
    "# This Python 3 environment comes with many helpful analytics libraries installed\n",
    "# It is defined by the kaggle/python Docker image: https://github.com/kaggle/docker-python\n",
    "# For example, here's several helpful packages to load\n",
    "\n",
    "import numpy as np # linear algebra\n",
    "import pandas as pd # data processing, CSV file I/O (e.g. pd.read_csv)\n",
    "\n",
    "# Input data files are available in the read-only \"../input/\" directory\n",
    "# For example, running this (by clicking run or pressing Shift+Enter) will list all files under the input directory\n",
    "\n",
    "import os\n",
    "for dirname, _, filenames in os.walk('/kaggle/input'):\n",
    "    for filename in filenames:\n",
    "        print(os.path.join(dirname, filename))\n",
    "\n",
    "# You can write up to 20GB to the current directory (/kaggle/working/) that gets preserved as output when you create a version using \"Save & Run All\" \n",
    "# You can also write temporary files to /kaggle/temp/, but they won't be saved outside of the current session"
   ]
  },
  {
   "cell_type": "markdown",
   "id": "47ee6e3a",
   "metadata": {
    "papermill": {
     "duration": 0.003353,
     "end_time": "2025-07-11T17:33:28.652219",
     "exception": false,
     "start_time": "2025-07-11T17:33:28.648866",
     "status": "completed"
    },
    "tags": []
   },
   "source": [
    "# **TASK 1**\n",
    "\n",
    "Perform Data Cleaning Clean a dataset by removing missing values and outliers.\n",
    "\n"
   ]
  },
  {
   "cell_type": "markdown",
   "id": "2602dc57",
   "metadata": {
    "papermill": {
     "duration": 0.003344,
     "end_time": "2025-07-11T17:33:28.659318",
     "exception": false,
     "start_time": "2025-07-11T17:33:28.655974",
     "status": "completed"
    },
    "tags": []
   },
   "source": [
    "****\n"
   ]
  },
  {
   "cell_type": "markdown",
   "id": "067c69de",
   "metadata": {
    "papermill": {
     "duration": 0.003306,
     "end_time": "2025-07-11T17:33:28.666365",
     "exception": false,
     "start_time": "2025-07-11T17:33:28.663059",
     "status": "completed"
    },
    "tags": []
   },
   "source": [
    "\n",
    "# #**Step:1 Load and View the Data**\n"
   ]
  },
  {
   "cell_type": "code",
   "execution_count": 2,
   "id": "a8613934",
   "metadata": {
    "execution": {
     "iopub.execute_input": "2025-07-11T17:33:28.675186Z",
     "iopub.status.busy": "2025-07-11T17:33:28.674235Z",
     "iopub.status.idle": "2025-07-11T17:33:28.678857Z",
     "shell.execute_reply": "2025-07-11T17:33:28.678056Z"
    },
    "papermill": {
     "duration": 0.010347,
     "end_time": "2025-07-11T17:33:28.680209",
     "exception": false,
     "start_time": "2025-07-11T17:33:28.669862",
     "status": "completed"
    },
    "tags": []
   },
   "outputs": [],
   "source": [
    "# Import libraries\n",
    "import pandas as pd\n",
    "import numpy as np"
   ]
  },
  {
   "cell_type": "code",
   "execution_count": 3,
   "id": "599fa321",
   "metadata": {
    "execution": {
     "iopub.execute_input": "2025-07-11T17:33:28.688607Z",
     "iopub.status.busy": "2025-07-11T17:33:28.688286Z",
     "iopub.status.idle": "2025-07-11T17:33:28.740745Z",
     "shell.execute_reply": "2025-07-11T17:33:28.739802Z"
    },
    "papermill": {
     "duration": 0.058478,
     "end_time": "2025-07-11T17:33:28.742362",
     "exception": false,
     "start_time": "2025-07-11T17:33:28.683884",
     "status": "completed"
    },
    "tags": []
   },
   "outputs": [
    {
     "data": {
      "text/html": [
       "<div>\n",
       "<style scoped>\n",
       "    .dataframe tbody tr th:only-of-type {\n",
       "        vertical-align: middle;\n",
       "    }\n",
       "\n",
       "    .dataframe tbody tr th {\n",
       "        vertical-align: top;\n",
       "    }\n",
       "\n",
       "    .dataframe thead th {\n",
       "        text-align: right;\n",
       "    }\n",
       "</style>\n",
       "<table border=\"1\" class=\"dataframe\">\n",
       "  <thead>\n",
       "    <tr style=\"text-align: right;\">\n",
       "      <th></th>\n",
       "      <th>PassengerId</th>\n",
       "      <th>Survived</th>\n",
       "      <th>Pclass</th>\n",
       "      <th>Name</th>\n",
       "      <th>Sex</th>\n",
       "      <th>Age</th>\n",
       "      <th>SibSp</th>\n",
       "      <th>Parch</th>\n",
       "      <th>Ticket</th>\n",
       "      <th>Fare</th>\n",
       "      <th>Cabin</th>\n",
       "      <th>Embarked</th>\n",
       "    </tr>\n",
       "  </thead>\n",
       "  <tbody>\n",
       "    <tr>\n",
       "      <th>0</th>\n",
       "      <td>1</td>\n",
       "      <td>0</td>\n",
       "      <td>3</td>\n",
       "      <td>Braund, Mr. Owen Harris</td>\n",
       "      <td>male</td>\n",
       "      <td>22.0</td>\n",
       "      <td>1</td>\n",
       "      <td>0</td>\n",
       "      <td>A/5 21171</td>\n",
       "      <td>7.2500</td>\n",
       "      <td>NaN</td>\n",
       "      <td>S</td>\n",
       "    </tr>\n",
       "    <tr>\n",
       "      <th>1</th>\n",
       "      <td>2</td>\n",
       "      <td>1</td>\n",
       "      <td>1</td>\n",
       "      <td>Cumings, Mrs. John Bradley (Florence Briggs Th...</td>\n",
       "      <td>female</td>\n",
       "      <td>38.0</td>\n",
       "      <td>1</td>\n",
       "      <td>0</td>\n",
       "      <td>PC 17599</td>\n",
       "      <td>71.2833</td>\n",
       "      <td>C85</td>\n",
       "      <td>C</td>\n",
       "    </tr>\n",
       "    <tr>\n",
       "      <th>2</th>\n",
       "      <td>3</td>\n",
       "      <td>1</td>\n",
       "      <td>3</td>\n",
       "      <td>Heikkinen, Miss. Laina</td>\n",
       "      <td>female</td>\n",
       "      <td>26.0</td>\n",
       "      <td>0</td>\n",
       "      <td>0</td>\n",
       "      <td>STON/O2. 3101282</td>\n",
       "      <td>7.9250</td>\n",
       "      <td>NaN</td>\n",
       "      <td>S</td>\n",
       "    </tr>\n",
       "    <tr>\n",
       "      <th>3</th>\n",
       "      <td>4</td>\n",
       "      <td>1</td>\n",
       "      <td>1</td>\n",
       "      <td>Futrelle, Mrs. Jacques Heath (Lily May Peel)</td>\n",
       "      <td>female</td>\n",
       "      <td>35.0</td>\n",
       "      <td>1</td>\n",
       "      <td>0</td>\n",
       "      <td>113803</td>\n",
       "      <td>53.1000</td>\n",
       "      <td>C123</td>\n",
       "      <td>S</td>\n",
       "    </tr>\n",
       "    <tr>\n",
       "      <th>4</th>\n",
       "      <td>5</td>\n",
       "      <td>0</td>\n",
       "      <td>3</td>\n",
       "      <td>Allen, Mr. William Henry</td>\n",
       "      <td>male</td>\n",
       "      <td>35.0</td>\n",
       "      <td>0</td>\n",
       "      <td>0</td>\n",
       "      <td>373450</td>\n",
       "      <td>8.0500</td>\n",
       "      <td>NaN</td>\n",
       "      <td>S</td>\n",
       "    </tr>\n",
       "  </tbody>\n",
       "</table>\n",
       "</div>"
      ],
      "text/plain": [
       "   PassengerId  Survived  Pclass  \\\n",
       "0            1         0       3   \n",
       "1            2         1       1   \n",
       "2            3         1       3   \n",
       "3            4         1       1   \n",
       "4            5         0       3   \n",
       "\n",
       "                                                Name     Sex   Age  SibSp  \\\n",
       "0                            Braund, Mr. Owen Harris    male  22.0      1   \n",
       "1  Cumings, Mrs. John Bradley (Florence Briggs Th...  female  38.0      1   \n",
       "2                             Heikkinen, Miss. Laina  female  26.0      0   \n",
       "3       Futrelle, Mrs. Jacques Heath (Lily May Peel)  female  35.0      1   \n",
       "4                           Allen, Mr. William Henry    male  35.0      0   \n",
       "\n",
       "   Parch            Ticket     Fare Cabin Embarked  \n",
       "0      0         A/5 21171   7.2500   NaN        S  \n",
       "1      0          PC 17599  71.2833   C85        C  \n",
       "2      0  STON/O2. 3101282   7.9250   NaN        S  \n",
       "3      0            113803  53.1000  C123        S  \n",
       "4      0            373450   8.0500   NaN        S  "
      ]
     },
     "execution_count": 3,
     "metadata": {},
     "output_type": "execute_result"
    }
   ],
   "source": [
    "# Import necessary libraries\n",
    "import pandas as pd\n",
    "import numpy as np\n",
    "\n",
    "# Load the data\n",
    "train_df = pd.read_csv('/kaggle/input/titanic/train.csv')\n",
    "test_df = pd.read_csv('/kaggle/input/titanic/test.csv')\n",
    "\n",
    "# View first few rows\n",
    "train_df.head()\n"
   ]
  },
  {
   "cell_type": "markdown",
   "id": "329e7d1a",
   "metadata": {
    "papermill": {
     "duration": 0.003666,
     "end_time": "2025-07-11T17:33:28.750419",
     "exception": false,
     "start_time": "2025-07-11T17:33:28.746753",
     "status": "completed"
    },
    "tags": []
   },
   "source": [
    "# **#  Step 2: Explore Missing Values**"
   ]
  },
  {
   "cell_type": "code",
   "execution_count": 4,
   "id": "e8852fc1",
   "metadata": {
    "execution": {
     "iopub.execute_input": "2025-07-11T17:33:28.760102Z",
     "iopub.status.busy": "2025-07-11T17:33:28.759184Z",
     "iopub.status.idle": "2025-07-11T17:33:28.769347Z",
     "shell.execute_reply": "2025-07-11T17:33:28.768326Z"
    },
    "papermill": {
     "duration": 0.01652,
     "end_time": "2025-07-11T17:33:28.770862",
     "exception": false,
     "start_time": "2025-07-11T17:33:28.754342",
     "status": "completed"
    },
    "tags": []
   },
   "outputs": [
    {
     "data": {
      "text/plain": [
       "PassengerId      0\n",
       "Survived         0\n",
       "Pclass           0\n",
       "Name             0\n",
       "Sex              0\n",
       "Age            177\n",
       "SibSp            0\n",
       "Parch            0\n",
       "Ticket           0\n",
       "Fare             0\n",
       "Cabin          687\n",
       "Embarked         2\n",
       "dtype: int64"
      ]
     },
     "execution_count": 4,
     "metadata": {},
     "output_type": "execute_result"
    }
   ],
   "source": [
    "# Check for missing values\n",
    "train_df.isnull().sum()\n"
   ]
  },
  {
   "cell_type": "markdown",
   "id": "65f7307c",
   "metadata": {
    "papermill": {
     "duration": 0.003695,
     "end_time": "2025-07-11T17:33:28.778741",
     "exception": false,
     "start_time": "2025-07-11T17:33:28.775046",
     "status": "completed"
    },
    "tags": []
   },
   "source": [
    "**#  Step 3: Handle Missing Data**\n",
    "\n",
    "- We removed the `Cabin` column because it has many missing values (if it exists).\n",
    "- We filled missing values in `Age` with the **median**.\n",
    "- We filled missing `Embarked` values in the training set with the **mode**.\n",
    "- We filled the missing value in `Fare` in the test set using the **median**.\n"
   ]
  },
  {
   "cell_type": "code",
   "execution_count": 5,
   "id": "9665518a",
   "metadata": {
    "execution": {
     "iopub.execute_input": "2025-07-11T17:33:28.788990Z",
     "iopub.status.busy": "2025-07-11T17:33:28.788165Z",
     "iopub.status.idle": "2025-07-11T17:33:28.812849Z",
     "shell.execute_reply": "2025-07-11T17:33:28.811884Z"
    },
    "papermill": {
     "duration": 0.03189,
     "end_time": "2025-07-11T17:33:28.814496",
     "exception": false,
     "start_time": "2025-07-11T17:33:28.782606",
     "status": "completed"
    },
    "tags": []
   },
   "outputs": [],
   "source": [
    "# Safely drop the 'Cabin' column (only if it exists)\n",
    "train_df = train_df.drop(columns=['Cabin'], errors='ignore')\n",
    "test_df = test_df.drop(columns=['Cabin'], errors='ignore')\n",
    "\n",
    "# Fill 'Age' with median\n",
    "train_df['Age'] = train_df['Age'].fillna(train_df['Age'].median())\n",
    "test_df['Age'] = test_df['Age'].fillna(test_df['Age'].median())\n",
    "\n",
    "# Fill 'Embarked' with mode (most frequent value)\n",
    "train_df['Embarked'] = train_df['Embarked'].fillna(train_df['Embarked'].mode()[0])\n",
    "\n",
    "# Fill 'Fare' in test set with median\n",
    "test_df['Fare'] = test_df['Fare'].fillna(test_df['Fare'].median())\n"
   ]
  },
  {
   "cell_type": "markdown",
   "id": "761e7f23",
   "metadata": {
    "papermill": {
     "duration": 0.003636,
     "end_time": "2025-07-11T17:33:28.822115",
     "exception": false,
     "start_time": "2025-07-11T17:33:28.818479",
     "status": "completed"
    },
    "tags": []
   },
   "source": [
    "# **Step 4: Remove Outliers**\n",
    "\n",
    "Let’s remove outliers from Fare and Age using IQR (interquartile range)."
   ]
  },
  {
   "cell_type": "code",
   "execution_count": 6,
   "id": "9e0be1a5",
   "metadata": {
    "execution": {
     "iopub.execute_input": "2025-07-11T17:33:28.831105Z",
     "iopub.status.busy": "2025-07-11T17:33:28.830820Z",
     "iopub.status.idle": "2025-07-11T17:33:28.848533Z",
     "shell.execute_reply": "2025-07-11T17:33:28.847663Z"
    },
    "papermill": {
     "duration": 0.024027,
     "end_time": "2025-07-11T17:33:28.850028",
     "exception": false,
     "start_time": "2025-07-11T17:33:28.826001",
     "status": "completed"
    },
    "tags": []
   },
   "outputs": [],
   "source": [
    "def remove_outliers(df, column):\n",
    "    Q1 = df[column].quantile(0.25)\n",
    "    Q3 = df[column].quantile(0.75)\n",
    "    IQR = Q3 - Q1\n",
    "    lower = Q1 - 1.5 * IQR\n",
    "    upper = Q3 + 1.5 * IQR\n",
    "    return df[(df[column] >= lower) & (df[column] <= upper)]\n",
    "\n",
    "# Apply to 'Fare' and 'Age'\n",
    "train_df = remove_outliers(train_df, 'Fare')\n",
    "train_df = remove_outliers(train_df, 'Age')\n"
   ]
  },
  {
   "cell_type": "markdown",
   "id": "3ccc5573",
   "metadata": {
    "papermill": {
     "duration": 0.003811,
     "end_time": "2025-07-11T17:33:28.857980",
     "exception": false,
     "start_time": "2025-07-11T17:33:28.854169",
     "status": "completed"
    },
    "tags": []
   },
   "source": [
    "# **Step 5: Save Cleaned Data**"
   ]
  },
  {
   "cell_type": "code",
   "execution_count": 7,
   "id": "d17086a2",
   "metadata": {
    "execution": {
     "iopub.execute_input": "2025-07-11T17:33:28.867309Z",
     "iopub.status.busy": "2025-07-11T17:33:28.867013Z",
     "iopub.status.idle": "2025-07-11T17:33:28.883250Z",
     "shell.execute_reply": "2025-07-11T17:33:28.882238Z"
    },
    "papermill": {
     "duration": 0.023008,
     "end_time": "2025-07-11T17:33:28.884958",
     "exception": false,
     "start_time": "2025-07-11T17:33:28.861950",
     "status": "completed"
    },
    "tags": []
   },
   "outputs": [],
   "source": [
    "train_df.to_csv('/kaggle/working/cleaned_train.csv', index=False)\n",
    "test_df.to_csv('/kaggle/working/cleaned_test.csv', index=False)\n"
   ]
  },
  {
   "cell_type": "markdown",
   "id": "a7e40fee",
   "metadata": {
    "papermill": {
     "duration": 0.003784,
     "end_time": "2025-07-11T17:33:28.892988",
     "exception": false,
     "start_time": "2025-07-11T17:33:28.889204",
     "status": "completed"
    },
    "tags": []
   },
   "source": [
    "# **Task 2**"
   ]
  },
  {
   "cell_type": "markdown",
   "id": "292cebfb",
   "metadata": {
    "papermill": {
     "duration": 0.003728,
     "end_time": "2025-07-11T17:33:28.900711",
     "exception": false,
     "start_time": "2025-07-11T17:33:28.896983",
     "status": "completed"
    },
    "tags": []
   },
   "source": [
    "Objective of Task 2\n",
    "calculate and display basic statistics:\n",
    "\n",
    "Mean\n",
    "\n",
    "Median\n",
    "\n",
    "Mode\n",
    "\n",
    "Standard Deviation\n",
    "\n"
   ]
  },
  {
   "cell_type": "markdown",
   "id": "a1de8d03",
   "metadata": {
    "papermill": {
     "duration": 0.003777,
     "end_time": "2025-07-11T17:33:28.908826",
     "exception": false,
     "start_time": "2025-07-11T17:33:28.905049",
     "status": "completed"
    },
    "tags": []
   },
   "source": [
    "# 📊 Step 1: Choose Numeric Columns\n",
    "\n",
    "Usually, we use numeric columns like:\n",
    "\n",
    "Age\n",
    "\n",
    "Fare\n",
    "\n",
    "SibSp (siblings/spouses)\n",
    "\n",
    "Parch (parents/children)"
   ]
  },
  {
   "cell_type": "code",
   "execution_count": 8,
   "id": "2b815f7b",
   "metadata": {
    "execution": {
     "iopub.execute_input": "2025-07-11T17:33:28.918412Z",
     "iopub.status.busy": "2025-07-11T17:33:28.918066Z",
     "iopub.status.idle": "2025-07-11T17:33:28.922339Z",
     "shell.execute_reply": "2025-07-11T17:33:28.921631Z"
    },
    "papermill": {
     "duration": 0.010879,
     "end_time": "2025-07-11T17:33:28.923787",
     "exception": false,
     "start_time": "2025-07-11T17:33:28.912908",
     "status": "completed"
    },
    "tags": []
   },
   "outputs": [],
   "source": [
    "numeric_cols = ['Age', 'Fare', 'SibSp', 'Parch']\n"
   ]
  },
  {
   "cell_type": "markdown",
   "id": "99e70785",
   "metadata": {
    "papermill": {
     "duration": 0.003724,
     "end_time": "2025-07-11T17:33:28.931528",
     "exception": false,
     "start_time": "2025-07-11T17:33:28.927804",
     "status": "completed"
    },
    "tags": []
   },
   "source": [
    "\n",
    "# **Step 2: Calculate Summary Statistics**\n",
    "\n",
    "We calculate the mean, median, mode, and standard deviation for key numeric columns in the Titanic dataset: Age, Fare, SibSp, and Parch.\n",
    "\n",
    "\n"
   ]
  },
  {
   "cell_type": "code",
   "execution_count": 9,
   "id": "61a5f319",
   "metadata": {
    "execution": {
     "iopub.execute_input": "2025-07-11T17:33:28.940977Z",
     "iopub.status.busy": "2025-07-11T17:33:28.940286Z",
     "iopub.status.idle": "2025-07-11T17:33:28.961246Z",
     "shell.execute_reply": "2025-07-11T17:33:28.960396Z"
    },
    "papermill": {
     "duration": 0.027499,
     "end_time": "2025-07-11T17:33:28.962872",
     "exception": false,
     "start_time": "2025-07-11T17:33:28.935373",
     "status": "completed"
    },
    "tags": []
   },
   "outputs": [
    {
     "data": {
      "text/html": [
       "<div>\n",
       "<style scoped>\n",
       "    .dataframe tbody tr th:only-of-type {\n",
       "        vertical-align: middle;\n",
       "    }\n",
       "\n",
       "    .dataframe tbody tr th {\n",
       "        vertical-align: top;\n",
       "    }\n",
       "\n",
       "    .dataframe thead th {\n",
       "        text-align: right;\n",
       "    }\n",
       "</style>\n",
       "<table border=\"1\" class=\"dataframe\">\n",
       "  <thead>\n",
       "    <tr style=\"text-align: right;\">\n",
       "      <th></th>\n",
       "      <th>Mean</th>\n",
       "      <th>Median</th>\n",
       "      <th>Mode</th>\n",
       "      <th>Standard Deviation</th>\n",
       "    </tr>\n",
       "  </thead>\n",
       "  <tbody>\n",
       "    <tr>\n",
       "      <th>Age</th>\n",
       "      <td>28.052260</td>\n",
       "      <td>28.0000</td>\n",
       "      <td>28.00</td>\n",
       "      <td>9.506200</td>\n",
       "    </tr>\n",
       "    <tr>\n",
       "      <th>Fare</th>\n",
       "      <td>17.135092</td>\n",
       "      <td>11.2417</td>\n",
       "      <td>8.05</td>\n",
       "      <td>13.414455</td>\n",
       "    </tr>\n",
       "    <tr>\n",
       "      <th>SibSp</th>\n",
       "      <td>0.399718</td>\n",
       "      <td>0.0000</td>\n",
       "      <td>0.00</td>\n",
       "      <td>0.840859</td>\n",
       "    </tr>\n",
       "    <tr>\n",
       "      <th>Parch</th>\n",
       "      <td>0.313559</td>\n",
       "      <td>0.0000</td>\n",
       "      <td>0.00</td>\n",
       "      <td>0.782038</td>\n",
       "    </tr>\n",
       "  </tbody>\n",
       "</table>\n",
       "</div>"
      ],
      "text/plain": [
       "            Mean   Median   Mode  Standard Deviation\n",
       "Age    28.052260  28.0000  28.00            9.506200\n",
       "Fare   17.135092  11.2417   8.05           13.414455\n",
       "SibSp   0.399718   0.0000   0.00            0.840859\n",
       "Parch   0.313559   0.0000   0.00            0.782038"
      ]
     },
     "execution_count": 9,
     "metadata": {},
     "output_type": "execute_result"
    }
   ],
   "source": [
    "# Mean\n",
    "mean_values = train_df[numeric_cols].mean()\n",
    "\n",
    "# Median\n",
    "median_values = train_df[numeric_cols].median()\n",
    "\n",
    "# Mode (note: can return multiple rows)\n",
    "mode_values = train_df[numeric_cols].mode().iloc[0]  # First mode if multiple\n",
    "\n",
    "# Standard Deviation\n",
    "std_values = train_df[numeric_cols].std()\n",
    "\n",
    "# Display neatly\n",
    "summary_stats = pd.DataFrame({\n",
    "    'Mean': mean_values,\n",
    "    'Median': median_values,\n",
    "    'Mode': mode_values,\n",
    "    'Standard Deviation': std_values\n",
    "})\n",
    "\n",
    "summary_stats\n"
   ]
  },
  {
   "cell_type": "code",
   "execution_count": null,
   "id": "2284cb67",
   "metadata": {
    "papermill": {
     "duration": 0.00383,
     "end_time": "2025-07-11T17:33:28.971176",
     "exception": false,
     "start_time": "2025-07-11T17:33:28.967346",
     "status": "completed"
    },
    "tags": []
   },
   "outputs": [],
   "source": []
  }
 ],
 "metadata": {
  "kaggle": {
   "accelerator": "none",
   "dataSources": [
    {
     "databundleVersionId": 26502,
     "sourceId": 3136,
     "sourceType": "competition"
    },
    {
     "datasetId": 3064,
     "sourceId": 5101,
     "sourceType": "datasetVersion"
    },
    {
     "datasetId": 7848745,
     "sourceId": 12442367,
     "sourceType": "datasetVersion"
    }
   ],
   "dockerImageVersionId": 31089,
   "isGpuEnabled": false,
   "isInternetEnabled": false,
   "language": "python",
   "sourceType": "notebook"
  },
  "kernelspec": {
   "display_name": "Python 3",
   "language": "python",
   "name": "python3"
  },
  "language_info": {
   "codemirror_mode": {
    "name": "ipython",
    "version": 3
   },
   "file_extension": ".py",
   "mimetype": "text/x-python",
   "name": "python",
   "nbconvert_exporter": "python",
   "pygments_lexer": "ipython3",
   "version": "3.11.13"
  },
  "papermill": {
   "default_parameters": {},
   "duration": 7.367467,
   "end_time": "2025-07-11T17:33:29.495656",
   "environment_variables": {},
   "exception": null,
   "input_path": "__notebook__.ipynb",
   "output_path": "__notebook__.ipynb",
   "parameters": {},
   "start_time": "2025-07-11T17:33:22.128189",
   "version": "2.6.0"
  }
 },
 "nbformat": 4,
 "nbformat_minor": 5
}
