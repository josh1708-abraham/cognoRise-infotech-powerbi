{
 "cells": [
  {
   "cell_type": "code",
   "execution_count": 1,
   "id": "d03390a9",
   "metadata": {
    "_cell_guid": "b1076dfc-b9ad-4769-8c92-a6c4dae69d19",
    "_uuid": "8f2839f25d086af736a60e9eeb907d3b93b6e0e5",
    "execution": {
     "iopub.execute_input": "2025-07-11T16:36:21.342687Z",
     "iopub.status.busy": "2025-07-11T16:36:21.341921Z",
     "iopub.status.idle": "2025-07-11T16:36:23.428891Z",
     "shell.execute_reply": "2025-07-11T16:36:23.427638Z"
    },
    "papermill": {
     "duration": 2.093733,
     "end_time": "2025-07-11T16:36:23.430657",
     "exception": false,
     "start_time": "2025-07-11T16:36:21.336924",
     "status": "completed"
    },
    "tags": []
   },
   "outputs": [
    {
     "name": "stdout",
     "output_type": "stream",
     "text": [
      "/kaggle/input/gender-submission-csv/gender_submission.csv\n",
      "/kaggle/input/titanic/train.csv\n",
      "/kaggle/input/titanic/test.csv\n",
      "/kaggle/input/titanic/gender_submission.csv\n",
      "/kaggle/input/titanic-machine-learning-from-disaster/train.csv\n",
      "/kaggle/input/titanic-machine-learning-from-disaster/test.csv\n"
     ]
    }
   ],
   "source": [
    "# This Python 3 environment comes with many helpful analytics libraries installed\n",
    "# It is defined by the kaggle/python Docker image: https://github.com/kaggle/docker-python\n",
    "# For example, here's several helpful packages to load\n",
    "\n",
    "import numpy as np # linear algebra\n",
    "import pandas as pd # data processing, CSV file I/O (e.g. pd.read_csv)\n",
    "\n",
    "# Input data files are available in the read-only \"../input/\" directory\n",
    "# For example, running this (by clicking run or pressing Shift+Enter) will list all files under the input directory\n",
    "\n",
    "import os\n",
    "for dirname, _, filenames in os.walk('/kaggle/input'):\n",
    "    for filename in filenames:\n",
    "        print(os.path.join(dirname, filename))\n",
    "\n",
    "# You can write up to 20GB to the current directory (/kaggle/working/) that gets preserved as output when you create a version using \"Save & Run All\" \n",
    "# You can also write temporary files to /kaggle/temp/, but they won't be saved outside of the current session"
   ]
  },
  {
   "cell_type": "markdown",
   "id": "3ea4790d",
   "metadata": {
    "papermill": {
     "duration": 0.002616,
     "end_time": "2025-07-11T16:36:23.436760",
     "exception": false,
     "start_time": "2025-07-11T16:36:23.434144",
     "status": "completed"
    },
    "tags": []
   },
   "source": []
  },
  {
   "cell_type": "markdown",
   "id": "d83fc6ff",
   "metadata": {
    "papermill": {
     "duration": 0.002478,
     "end_time": "2025-07-11T16:36:23.442028",
     "exception": false,
     "start_time": "2025-07-11T16:36:23.439550",
     "status": "completed"
    },
    "tags": []
   },
   "source": [
    "# **Step 1: Load and View the Data\n",
    "\n"
   ]
  },
  {
   "cell_type": "code",
   "execution_count": 2,
   "id": "0c798bdb",
   "metadata": {
    "execution": {
     "iopub.execute_input": "2025-07-11T16:36:23.449528Z",
     "iopub.status.busy": "2025-07-11T16:36:23.449083Z",
     "iopub.status.idle": "2025-07-11T16:36:23.453877Z",
     "shell.execute_reply": "2025-07-11T16:36:23.452868Z"
    },
    "papermill": {
     "duration": 0.010717,
     "end_time": "2025-07-11T16:36:23.455482",
     "exception": false,
     "start_time": "2025-07-11T16:36:23.444765",
     "status": "completed"
    },
    "tags": []
   },
   "outputs": [],
   "source": [
    "# Step 1: Import libraries\n",
    "import pandas as pd\n",
    "import numpy as np"
   ]
  },
  {
   "cell_type": "code",
   "execution_count": 3,
   "id": "f9179c81",
   "metadata": {
    "execution": {
     "iopub.execute_input": "2025-07-11T16:36:23.462653Z",
     "iopub.status.busy": "2025-07-11T16:36:23.462350Z",
     "iopub.status.idle": "2025-07-11T16:36:23.519081Z",
     "shell.execute_reply": "2025-07-11T16:36:23.518155Z"
    },
    "papermill": {
     "duration": 0.062247,
     "end_time": "2025-07-11T16:36:23.520740",
     "exception": false,
     "start_time": "2025-07-11T16:36:23.458493",
     "status": "completed"
    },
    "tags": []
   },
   "outputs": [
    {
     "data": {
      "text/html": [
       "<div>\n",
       "<style scoped>\n",
       "    .dataframe tbody tr th:only-of-type {\n",
       "        vertical-align: middle;\n",
       "    }\n",
       "\n",
       "    .dataframe tbody tr th {\n",
       "        vertical-align: top;\n",
       "    }\n",
       "\n",
       "    .dataframe thead th {\n",
       "        text-align: right;\n",
       "    }\n",
       "</style>\n",
       "<table border=\"1\" class=\"dataframe\">\n",
       "  <thead>\n",
       "    <tr style=\"text-align: right;\">\n",
       "      <th></th>\n",
       "      <th>PassengerId</th>\n",
       "      <th>Survived</th>\n",
       "      <th>Pclass</th>\n",
       "      <th>Name</th>\n",
       "      <th>Sex</th>\n",
       "      <th>Age</th>\n",
       "      <th>SibSp</th>\n",
       "      <th>Parch</th>\n",
       "      <th>Ticket</th>\n",
       "      <th>Fare</th>\n",
       "      <th>Cabin</th>\n",
       "      <th>Embarked</th>\n",
       "    </tr>\n",
       "  </thead>\n",
       "  <tbody>\n",
       "    <tr>\n",
       "      <th>0</th>\n",
       "      <td>1</td>\n",
       "      <td>0</td>\n",
       "      <td>3</td>\n",
       "      <td>Braund, Mr. Owen Harris</td>\n",
       "      <td>male</td>\n",
       "      <td>22.0</td>\n",
       "      <td>1</td>\n",
       "      <td>0</td>\n",
       "      <td>A/5 21171</td>\n",
       "      <td>7.2500</td>\n",
       "      <td>NaN</td>\n",
       "      <td>S</td>\n",
       "    </tr>\n",
       "    <tr>\n",
       "      <th>1</th>\n",
       "      <td>2</td>\n",
       "      <td>1</td>\n",
       "      <td>1</td>\n",
       "      <td>Cumings, Mrs. John Bradley (Florence Briggs Th...</td>\n",
       "      <td>female</td>\n",
       "      <td>38.0</td>\n",
       "      <td>1</td>\n",
       "      <td>0</td>\n",
       "      <td>PC 17599</td>\n",
       "      <td>71.2833</td>\n",
       "      <td>C85</td>\n",
       "      <td>C</td>\n",
       "    </tr>\n",
       "    <tr>\n",
       "      <th>2</th>\n",
       "      <td>3</td>\n",
       "      <td>1</td>\n",
       "      <td>3</td>\n",
       "      <td>Heikkinen, Miss. Laina</td>\n",
       "      <td>female</td>\n",
       "      <td>26.0</td>\n",
       "      <td>0</td>\n",
       "      <td>0</td>\n",
       "      <td>STON/O2. 3101282</td>\n",
       "      <td>7.9250</td>\n",
       "      <td>NaN</td>\n",
       "      <td>S</td>\n",
       "    </tr>\n",
       "    <tr>\n",
       "      <th>3</th>\n",
       "      <td>4</td>\n",
       "      <td>1</td>\n",
       "      <td>1</td>\n",
       "      <td>Futrelle, Mrs. Jacques Heath (Lily May Peel)</td>\n",
       "      <td>female</td>\n",
       "      <td>35.0</td>\n",
       "      <td>1</td>\n",
       "      <td>0</td>\n",
       "      <td>113803</td>\n",
       "      <td>53.1000</td>\n",
       "      <td>C123</td>\n",
       "      <td>S</td>\n",
       "    </tr>\n",
       "    <tr>\n",
       "      <th>4</th>\n",
       "      <td>5</td>\n",
       "      <td>0</td>\n",
       "      <td>3</td>\n",
       "      <td>Allen, Mr. William Henry</td>\n",
       "      <td>male</td>\n",
       "      <td>35.0</td>\n",
       "      <td>0</td>\n",
       "      <td>0</td>\n",
       "      <td>373450</td>\n",
       "      <td>8.0500</td>\n",
       "      <td>NaN</td>\n",
       "      <td>S</td>\n",
       "    </tr>\n",
       "  </tbody>\n",
       "</table>\n",
       "</div>"
      ],
      "text/plain": [
       "   PassengerId  Survived  Pclass  \\\n",
       "0            1         0       3   \n",
       "1            2         1       1   \n",
       "2            3         1       3   \n",
       "3            4         1       1   \n",
       "4            5         0       3   \n",
       "\n",
       "                                                Name     Sex   Age  SibSp  \\\n",
       "0                            Braund, Mr. Owen Harris    male  22.0      1   \n",
       "1  Cumings, Mrs. John Bradley (Florence Briggs Th...  female  38.0      1   \n",
       "2                             Heikkinen, Miss. Laina  female  26.0      0   \n",
       "3       Futrelle, Mrs. Jacques Heath (Lily May Peel)  female  35.0      1   \n",
       "4                           Allen, Mr. William Henry    male  35.0      0   \n",
       "\n",
       "   Parch            Ticket     Fare Cabin Embarked  \n",
       "0      0         A/5 21171   7.2500   NaN        S  \n",
       "1      0          PC 17599  71.2833   C85        C  \n",
       "2      0  STON/O2. 3101282   7.9250   NaN        S  \n",
       "3      0            113803  53.1000  C123        S  \n",
       "4      0            373450   8.0500   NaN        S  "
      ]
     },
     "execution_count": 3,
     "metadata": {},
     "output_type": "execute_result"
    }
   ],
   "source": [
    "# Import necessary libraries\n",
    "import pandas as pd\n",
    "import numpy as np\n",
    "\n",
    "# Load the data\n",
    "train_df = pd.read_csv('/kaggle/input/titanic/train.csv')\n",
    "test_df = pd.read_csv('/kaggle/input/titanic/test.csv')\n",
    "\n",
    "# View first few rows\n",
    "train_df.head()\n"
   ]
  },
  {
   "cell_type": "markdown",
   "id": "dc4f1f68",
   "metadata": {
    "papermill": {
     "duration": 0.002874,
     "end_time": "2025-07-11T16:36:23.527030",
     "exception": false,
     "start_time": "2025-07-11T16:36:23.524156",
     "status": "completed"
    },
    "tags": []
   },
   "source": [
    "# **#  Step 2: Explore Missing Values**"
   ]
  },
  {
   "cell_type": "code",
   "execution_count": 4,
   "id": "662d81d2",
   "metadata": {
    "execution": {
     "iopub.execute_input": "2025-07-11T16:36:23.535495Z",
     "iopub.status.busy": "2025-07-11T16:36:23.535140Z",
     "iopub.status.idle": "2025-07-11T16:36:23.544561Z",
     "shell.execute_reply": "2025-07-11T16:36:23.543582Z"
    },
    "papermill": {
     "duration": 0.015691,
     "end_time": "2025-07-11T16:36:23.546003",
     "exception": false,
     "start_time": "2025-07-11T16:36:23.530312",
     "status": "completed"
    },
    "tags": []
   },
   "outputs": [
    {
     "data": {
      "text/plain": [
       "PassengerId      0\n",
       "Survived         0\n",
       "Pclass           0\n",
       "Name             0\n",
       "Sex              0\n",
       "Age            177\n",
       "SibSp            0\n",
       "Parch            0\n",
       "Ticket           0\n",
       "Fare             0\n",
       "Cabin          687\n",
       "Embarked         2\n",
       "dtype: int64"
      ]
     },
     "execution_count": 4,
     "metadata": {},
     "output_type": "execute_result"
    }
   ],
   "source": [
    "# Check for missing values\n",
    "train_df.isnull().sum()\n"
   ]
  },
  {
   "cell_type": "markdown",
   "id": "1f3b2cee",
   "metadata": {
    "papermill": {
     "duration": 0.003222,
     "end_time": "2025-07-11T16:36:23.552968",
     "exception": false,
     "start_time": "2025-07-11T16:36:23.549746",
     "status": "completed"
    },
    "tags": []
   },
   "source": [
    "**#  Step 3: Handle Missing Data**\n",
    "\n",
    "- We removed the `Cabin` column because it has many missing values (if it exists).\n",
    "- We filled missing values in `Age` with the **median**.\n",
    "- We filled missing `Embarked` values in the training set with the **mode**.\n",
    "- We filled the missing value in `Fare` in the test set using the **median**.\n"
   ]
  },
  {
   "cell_type": "code",
   "execution_count": 5,
   "id": "f202f21f",
   "metadata": {
    "execution": {
     "iopub.execute_input": "2025-07-11T16:36:23.561245Z",
     "iopub.status.busy": "2025-07-11T16:36:23.560759Z",
     "iopub.status.idle": "2025-07-11T16:36:23.584914Z",
     "shell.execute_reply": "2025-07-11T16:36:23.583800Z"
    },
    "papermill": {
     "duration": 0.030149,
     "end_time": "2025-07-11T16:36:23.586748",
     "exception": false,
     "start_time": "2025-07-11T16:36:23.556599",
     "status": "completed"
    },
    "tags": []
   },
   "outputs": [],
   "source": [
    "# Safely drop the 'Cabin' column (only if it exists)\n",
    "train_df = train_df.drop(columns=['Cabin'], errors='ignore')\n",
    "test_df = test_df.drop(columns=['Cabin'], errors='ignore')\n",
    "\n",
    "# Fill 'Age' with median\n",
    "train_df['Age'] = train_df['Age'].fillna(train_df['Age'].median())\n",
    "test_df['Age'] = test_df['Age'].fillna(test_df['Age'].median())\n",
    "\n",
    "# Fill 'Embarked' with mode (most frequent value)\n",
    "train_df['Embarked'] = train_df['Embarked'].fillna(train_df['Embarked'].mode()[0])\n",
    "\n",
    "# Fill 'Fare' in test set with median\n",
    "test_df['Fare'] = test_df['Fare'].fillna(test_df['Fare'].median())\n"
   ]
  },
  {
   "cell_type": "markdown",
   "id": "e9bae90d",
   "metadata": {
    "papermill": {
     "duration": 0.003083,
     "end_time": "2025-07-11T16:36:23.593311",
     "exception": false,
     "start_time": "2025-07-11T16:36:23.590228",
     "status": "completed"
    },
    "tags": []
   },
   "source": [
    "# **Step 4: Remove Outliers**\n",
    "\n",
    "Let’s remove outliers from Fare and Age using IQR (interquartile range)."
   ]
  },
  {
   "cell_type": "code",
   "execution_count": 6,
   "id": "e755f6e5",
   "metadata": {
    "execution": {
     "iopub.execute_input": "2025-07-11T16:36:23.600888Z",
     "iopub.status.busy": "2025-07-11T16:36:23.600559Z",
     "iopub.status.idle": "2025-07-11T16:36:23.620211Z",
     "shell.execute_reply": "2025-07-11T16:36:23.619295Z"
    },
    "papermill": {
     "duration": 0.025519,
     "end_time": "2025-07-11T16:36:23.621960",
     "exception": false,
     "start_time": "2025-07-11T16:36:23.596441",
     "status": "completed"
    },
    "tags": []
   },
   "outputs": [],
   "source": [
    "def remove_outliers(df, column):\n",
    "    Q1 = df[column].quantile(0.25)\n",
    "    Q3 = df[column].quantile(0.75)\n",
    "    IQR = Q3 - Q1\n",
    "    lower = Q1 - 1.5 * IQR\n",
    "    upper = Q3 + 1.5 * IQR\n",
    "    return df[(df[column] >= lower) & (df[column] <= upper)]\n",
    "\n",
    "# Apply to 'Fare' and 'Age'\n",
    "train_df = remove_outliers(train_df, 'Fare')\n",
    "train_df = remove_outliers(train_df, 'Age')\n"
   ]
  },
  {
   "cell_type": "markdown",
   "id": "68395276",
   "metadata": {
    "papermill": {
     "duration": 0.003212,
     "end_time": "2025-07-11T16:36:23.628515",
     "exception": false,
     "start_time": "2025-07-11T16:36:23.625303",
     "status": "completed"
    },
    "tags": []
   },
   "source": [
    "# **Step 5: Save Cleaned Data**"
   ]
  },
  {
   "cell_type": "code",
   "execution_count": 7,
   "id": "573bb59b",
   "metadata": {
    "execution": {
     "iopub.execute_input": "2025-07-11T16:36:23.635836Z",
     "iopub.status.busy": "2025-07-11T16:36:23.635536Z",
     "iopub.status.idle": "2025-07-11T16:36:23.652429Z",
     "shell.execute_reply": "2025-07-11T16:36:23.651413Z"
    },
    "papermill": {
     "duration": 0.022667,
     "end_time": "2025-07-11T16:36:23.654269",
     "exception": false,
     "start_time": "2025-07-11T16:36:23.631602",
     "status": "completed"
    },
    "tags": []
   },
   "outputs": [],
   "source": [
    "train_df.to_csv('/kaggle/working/cleaned_train.csv', index=False)\n",
    "test_df.to_csv('/kaggle/working/cleaned_test.csv', index=False)\n"
   ]
  }
 ],
 "metadata": {
  "kaggle": {
   "accelerator": "none",
   "dataSources": [
    {
     "databundleVersionId": 26502,
     "sourceId": 3136,
     "sourceType": "competition"
    },
    {
     "datasetId": 7848745,
     "sourceId": 12442367,
     "sourceType": "datasetVersion"
    },
    {
     "datasetId": 3064,
     "sourceId": 5101,
     "sourceType": "datasetVersion"
    }
   ],
   "dockerImageVersionId": 31089,
   "isGpuEnabled": false,
   "isInternetEnabled": false,
   "language": "python",
   "sourceType": "notebook"
  },
  "kernelspec": {
   "display_name": "Python 3",
   "language": "python",
   "name": "python3"
  },
  "language_info": {
   "codemirror_mode": {
    "name": "ipython",
    "version": 3
   },
   "file_extension": ".py",
   "mimetype": "text/x-python",
   "name": "python",
   "nbconvert_exporter": "python",
   "pygments_lexer": "ipython3",
   "version": "3.11.13"
  },
  "papermill": {
   "default_parameters": {},
   "duration": 8.173158,
   "end_time": "2025-07-11T16:36:24.177547",
   "environment_variables": {},
   "exception": null,
   "input_path": "__notebook__.ipynb",
   "output_path": "__notebook__.ipynb",
   "parameters": {},
   "start_time": "2025-07-11T16:36:16.004389",
   "version": "2.6.0"
  }
 },
 "nbformat": 4,
 "nbformat_minor": 5
}
